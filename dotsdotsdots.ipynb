{
 "cells": [
  {
   "cell_type": "code",
   "execution_count": 5,
   "metadata": {},
   "outputs": [],
   "source": [
    "# Custom image:\n",
    "# Please use a public-access link, such as a google image\n",
    "# http:// or https:// at start, .png or .jpg at end\n",
    "image_url = 'https://prod-images.tcm.com/Master-Profile-Images/MarilynMonroe.jpg?raw=true'\n",
    "# Example: 'https://prod-images.tcm.com/Master-Profile-Images/MarilynMonroe.jpg?raw=true'\n",
    "\n",
    "# Define the spacing between dots (smaller values create a denser pattern)\n",
    "# For best results, keep to (2 * num_lines) - 1 (approximately)\n",
    "dot_spacing = 8\n",
    "# 5 8 15\n",
    "\n",
    "# Define number of unique dot weights:\n",
    "# Also defines largest pixel radius\n",
    "num_lines = 5\n",
    "# 3 5 10\n",
    "\n",
    "# Color, in hex.\n",
    "color =   'ffffff'\n",
    "# Red:    'ff0000'\n",
    "# Green:  '00ff00'\n",
    "# Blue:   '0000ff'\n",
    "# White:  'ffffff'\n",
    "\n",
    "# Name your finalized image:\n",
    "# .png will be automatically added.\n",
    "filename = 'abacadabra'\n"
   ]
  },
  {
   "cell_type": "code",
   "execution_count": 7,
   "metadata": {},
   "outputs": [
    {
     "data": {
      "text/plain": [
       "-1"
      ]
     },
     "execution_count": 7,
     "metadata": {},
     "output_type": "execute_result"
    }
   ],
   "source": [
    "import cv2\n",
    "import numpy as np\n",
    "from skimage import io\n",
    "import math\n",
    "\n",
    "# Load image\n",
    "image = io.imread(image_url)\n",
    "image = cv2.resize(image, (800, 600))\n",
    "\n",
    "# Convert the image from RGB to BGR format\n",
    "image = cv2.cvtColor(image, cv2.COLOR_RGB2BGR)\n",
    "image = cv2.cvtColor(image, cv2.COLOR_BGR2GRAY)\n",
    "\n",
    "# Dividing image\n",
    "partition_levels = [int(round((256 // num_lines) * i)) for i in range(1, num_lines)]\n",
    "quantized_image = np.floor_divide(image, 256 // num_lines) * (256 // num_lines)\n",
    "cv2.imshow('quan', quantized_image)\n",
    "\n",
    "# Collect the hexcode color value\n",
    "color = color.lstrip('#')\n",
    "r, g, b = tuple(int(color[i:i+2], 16) for i in (0, 2, 4))\n",
    "fin_color = (b, g, r)\n",
    "\n",
    "# Create a white canvas to draw dots on\n",
    "height, width = image.shape\n",
    "halftone = np.ones((height, width, 3), dtype=np.uint8) * 255\n",
    "\n",
    "# Loop through the image and draw dots based on pixel intensity\n",
    "for y in range(0, height, dot_spacing):\n",
    "    for x in range(0, width, dot_spacing):\n",
    "        intensity = image[y, x]\n",
    "        dot_radius = num_lines\n",
    "        for i, level in enumerate(partition_levels):\n",
    "            if intensity > level:\n",
    "                dot_radius = num_lines - (i + 1)\n",
    "            else:\n",
    "                break\n",
    "        cv2.circle(halftone, (x, y), dot_radius, fin_color, -1)\n",
    "\n",
    "# Print and kill program\n",
    "cv2.imshow('halfzies', halftone)\n",
    "\n",
    "# Invert and create transparent mask\n",
    "cut_mask = cv2.inRange(halftone, (250, 250, 250), (255, 255, 255))\n",
    "cut_mask = cv2.bitwise_not(cut_mask)\n",
    "\n",
    "# Set the white areas to be fully transparent (0 alpha value)\n",
    "image_with_transparency = cv2.cvtColor(halftone, cv2.COLOR_BGR2BGRA)\n",
    "image_with_transparency[:, :, 3] = cut_mask\n",
    "\n",
    "cv2.imwrite('halftone.png', image_with_transparency)\n",
    "\n",
    "cv2.waitKey(0)"
   ]
  }
 ],
 "metadata": {
  "kernelspec": {
   "display_name": "Python 3",
   "language": "python",
   "name": "python3"
  },
  "language_info": {
   "codemirror_mode": {
    "name": "ipython",
    "version": 3
   },
   "file_extension": ".py",
   "mimetype": "text/x-python",
   "name": "python",
   "nbconvert_exporter": "python",
   "pygments_lexer": "ipython3",
   "version": "3.11.4"
  },
  "orig_nbformat": 4
 },
 "nbformat": 4,
 "nbformat_minor": 2
}
