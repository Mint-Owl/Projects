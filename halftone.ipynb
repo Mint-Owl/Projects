{
 "cells": [
  {
   "cell_type": "code",
   "execution_count": 74,
   "metadata": {},
   "outputs": [
    {
     "data": {
      "text/plain": [
       "-1"
      ]
     },
     "execution_count": 74,
     "metadata": {},
     "output_type": "execute_result"
    }
   ],
   "source": [
    "import cv2\n",
    "import numpy as np\n",
    "from skimage import io\n",
    "\n",
    "\n",
    "# Load your image\n",
    "image_url = 'https://github.com/Mint-Owl/Images/blob/main/earth%20poster.png?raw=true'\n",
    "image = io.imread(image_url)\n",
    "\n",
    "# Convert the image from RGB to BGR format (if needed)\n",
    "image = cv2.cvtColor(image, cv2.COLOR_RGB2BGR)\n",
    "image = cv2.cvtColor(image, cv2.COLOR_BGR2GRAY)\n",
    "\n",
    "# Display the image in a window\n",
    "cv2.imshow('Image', image)\n",
    "\n",
    "cv2.waitKey(0)\n",
    "\n",
    "# Define the circle color (white)\n",
    "circle_color = (255, 255, 255)  # (B, G, R)\n",
    "\n",
    "# Define the circle radius (in pixels)\n",
    "circle_radius = 3\n",
    "\n",
    "# Define the circle spacing (in pixels)\n",
    "circle_spacing = 7\n",
    "\n",
    "# Create an empty mask with the same size as the image\n",
    "mask = np.zeros_like(image, dtype=np.uint8)\n",
    "\n",
    "# Draw circles on the mask at regular intervals\n",
    "for y in range(0, image.shape[0], circle_spacing):\n",
    "    for x in range(0, image.shape[1], circle_spacing):\n",
    "        cv2.circle(mask, (x, y), circle_radius, circle_color, -1)\n",
    "        \n",
    "        \n",
    "\n",
    "# Invert the mask (so that the circles become white)\n",
    "mask_inv = cv2.bitwise_not(mask)\n",
    "\n",
    "# Create a white background\n",
    "white_background = np.ones_like(image, dtype=np.uint8) * 255\n",
    "\n",
    "# Apply the mask to the image to keep the content inside the circles\n",
    "result = cv2.bitwise_and(image, mask) + cv2.bitwise_and(white_background, mask_inv)\n",
    "\n",
    "# Save or display the result\n",
    "cv2.imwrite('image_with_circles_filled.jpg', result)\n",
    "\n",
    "cv2.imshow('resilt', result)\n",
    "cv2.waitKey(0)"
   ]
  },
  {
   "cell_type": "code",
   "execution_count": 75,
   "metadata": {},
   "outputs": [
    {
     "data": {
      "text/plain": [
       "-1"
      ]
     },
     "execution_count": 75,
     "metadata": {},
     "output_type": "execute_result"
    }
   ],
   "source": [
    "num_lines = 4\n",
    "\n",
    "#dividing image\n",
    "partition_levels = [int(round((256 // num_lines) * i)) for i in range(1, num_lines)]\n",
    "\n",
    "quantized_image = np.floor_divide(image, 256 // num_lines) * (256 // num_lines)\n",
    "\n",
    "# Define the spacing between dots (smaller values create a denser pattern)\n",
    "dot_spacing = 6\n",
    "\n",
    "# Create a white canvas to draw dots on\n",
    "height, width = image.shape\n",
    "halftone = np.ones((height, width), dtype=np.uint8) * 255\n",
    "\n",
    "# Loop through the image and draw dots based on pixel intensity\n",
    "for y in range(0, height, dot_spacing):\n",
    "    for x in range(0, width, dot_spacing):\n",
    "        intensity = image[y, x]\n",
    "        for i, level in enumerate(partition_levels):\n",
    "            if intensity > level:\n",
    "                dot_radius = num_lines - i\n",
    "        cv2.circle(halftone, (x, y), dot_radius, 0, -1)\n",
    "\n",
    "cv2.imshow('halfzies', halftone)\n",
    "cv2.waitKey(0)\n"
   ]
  },
  {
   "cell_type": "code",
   "execution_count": 76,
   "metadata": {},
   "outputs": [
    {
     "data": {
      "text/plain": [
       "-1"
      ]
     },
     "execution_count": 76,
     "metadata": {},
     "output_type": "execute_result"
    }
   ],
   "source": [
    "# Create an empty mask with the same size as the image\n",
    "mask2 = np.zeros_like(image, dtype=np.uint8)\n",
    "\n",
    "# Draw circles on the mask at regular intervals\n",
    "for y in range(0, image.shape[0], circle_spacing):\n",
    "    for x in range(0, image.shape[1], circle_spacing):\n",
    "        intensity = image[y, x]\n",
    "        for i, level in enumerate(partition_levels):\n",
    "            if intensity > level:\n",
    "                dot_radius = num_lines - (i + 1)\n",
    "        cv2.circle(mask2, (x, y), dot_radius, circle_color, -1)\n",
    "        \n",
    "        \n",
    "\n",
    "# Invert the mask (so that the circles become white)\n",
    "mask_inv = cv2.bitwise_not(mask2)\n",
    "\n",
    "# Create a white background\n",
    "white_background = np.ones_like(image, dtype=np.uint8) * 255\n",
    "\n",
    "# Apply the mask to the image to keep the content inside the circles\n",
    "halfcolor = cv2.bitwise_and(image, mask2) + cv2.bitwise_and(white_background, mask_inv)\n",
    "\n",
    "cv2.imshow('halfzies', halfcolor)\n",
    "cv2.waitKey(0)"
   ]
  }
 ],
 "metadata": {
  "kernelspec": {
   "display_name": "Python 3",
   "language": "python",
   "name": "python3"
  },
  "language_info": {
   "codemirror_mode": {
    "name": "ipython",
    "version": 3
   },
   "file_extension": ".py",
   "mimetype": "text/x-python",
   "name": "python",
   "nbconvert_exporter": "python",
   "pygments_lexer": "ipython3",
   "version": "3.10.6"
  },
  "orig_nbformat": 4
 },
 "nbformat": 4,
 "nbformat_minor": 2
}
